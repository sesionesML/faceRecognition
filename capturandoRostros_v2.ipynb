{
 "cells": [
  {
   "cell_type": "code",
   "execution_count": 6,
   "metadata": {},
   "outputs": [],
   "source": [
    "import cv2\n",
    "import os\n",
    "import imutils"
   ]
  },
  {
   "cell_type": "code",
   "execution_count": 10,
   "metadata": {},
   "outputs": [],
   "source": [
    "faceClassif = cv2.CascadeClassifier(\n",
    "\tcv2.data.haarcascades+'haarcascade_frontalface_default.xml'\n",
    ")"
   ]
  },
  {
   "cell_type": "code",
   "execution_count": 15,
   "metadata": {},
   "outputs": [
    {
     "name": "stdout",
     "output_type": "stream",
     "text": [
      "Carpeta creada:  Data/Abraham_Sanchez\n"
     ]
    }
   ],
   "source": [
    "#AsignarID\n",
    "personName = 'Abraham_Sanchez'\n",
    "dataPath = 'Data'\n",
    "#dataPathV = '/home/nvidia/Documents/RF/Reconocimiento Facial/Video'\n",
    "personPath = dataPath + '/' + personName\n",
    "\n",
    "if not os.path.exists(personPath):\n",
    "\tprint('Carpeta creada: ',personPath)\n",
    "\tos.makedirs(personPath)\n",
    "\n",
    "cap = cv2.VideoCapture(1)\n",
    "#cap = cv2.VideoCapture(f\"{dataPathV}/{personName}/{personName}.mov\")\n",
    "\n",
    "count = 0"
   ]
  },
  {
   "cell_type": "code",
   "execution_count": 16,
   "metadata": {},
   "outputs": [],
   "source": [
    "f = 1000\n",
    "\n",
    "while True:\n",
    "\tret, frame = cap.read()\n",
    "\tif ret == False: break\n",
    "\tframe =  imutils.resize(frame, width=640)\n",
    "\tgray = cv2.cvtColor(frame, cv2.COLOR_BGR2GRAY)\n",
    "\tauxFrame = frame.copy()\n",
    "\n",
    "\tfaces = faceClassif.detectMultiScale(gray,1.3,5)\n",
    "\n",
    "\tfor (x,y,w,h) in faces:\n",
    "\t\tcv2.rectangle(frame, (x,y),(x+w,y+h),(0,255,0),2)\n",
    "\t\trostro = auxFrame[y:y+h,x:x+w]\n",
    "\t\trostro = cv2.resize(rostro,(150,150),interpolation=cv2.INTER_CUBIC) #Se puede cambiar el resize\n",
    "\t\tcv2.imwrite(personPath + '/rostro_{}.jpg'.format(count),rostro)\n",
    "\t\tcount = count + 1\n",
    "\tcv2.imshow('frame',frame)\n",
    "\n",
    "\tk =  cv2.waitKey(1)\n",
    "\tif k == 27 or count >= f:\n",
    "\t\tbreak\n",
    "\n",
    "cap.release()\n",
    "cv2.destroyAllWindows()"
   ]
  }
 ],
 "metadata": {
  "kernelspec": {
   "display_name": "Python 3",
   "language": "python",
   "name": "python3"
  },
  "language_info": {
   "codemirror_mode": {
    "name": "ipython",
    "version": 3
   },
   "file_extension": ".py",
   "mimetype": "text/x-python",
   "name": "python",
   "nbconvert_exporter": "python",
   "pygments_lexer": "ipython3",
   "version": "3.9.13"
  },
  "vscode": {
   "interpreter": {
    "hash": "fb4569285eef3a3450cb62085a5b1e0da4bce0af555edc33dcf29baf3acc1368"
   }
  }
 },
 "nbformat": 4,
 "nbformat_minor": 4
}
